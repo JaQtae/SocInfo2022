{
 "cells": [
  {
   "cell_type": "code",
   "execution_count": null,
   "id": "b9ae780c",
   "metadata": {},
   "outputs": [],
   "source": [
    "# Importing data from the r/politics\n",
    "from psaw import PushshiftAPI\n",
    "import datetime\n",
    "import pandas as pd\n",
    "import os\n",
    "import re\n",
    "import numpy as np"
   ]
  },
  {
   "cell_type": "markdown",
   "id": "582bb937",
   "metadata": {},
   "source": [
    "# 1. Motivation\n",
    "\n",
    "### The dataset\n",
    "\n",
    "For this project, we chose to work with data from the [r/politics](https://www.reddit.com/r/politics/) subreddit, an online forum with 8 million members \"for current and explicitly political U.S. news.\" according to the rules stated on the site. \n",
    "\n",
    "Visitors at r/politics will quickly notice that the majority of the submissions are by users posting links to news articles published on news media sites like CNN or the Huffington Post. The headlines of these linked articles are then shown on r/politics as the titles of the submissions. Other users then comment on the linked article, which is what ultimately constitutes the actual user-generated content on the site. \n",
    "\n",
    "We focused our data extraction to only include submissions from r/politics that fulfilled the following criteria: \n",
    "* contained either \"Trump\" or \"Biden\" in the title\n",
    "* had received more than five comments\n",
    "* had been published between 10-1-2020 and 11-3-2020, approximately a month before the most recent U.S. presidential election that took place on 11-3-2020.\n",
    "\n",
    "The motivation for this time frame was an underlying assumption that the political discourse would be intensified in this period, which would facilitate inferring the political convictions (either democratic or republican) of the active redditors, based on their posts.  "
   ]
  },
  {
   "cell_type": "code",
   "execution_count": null,
   "id": "a85bf3bc",
   "metadata": {},
   "outputs": [],
   "source": [
    "\n",
    "api = PushshiftAPI()\n",
    "\n",
    "my_subreddit = \"politics\"\n",
    "query = \"Trump | Biden \"\n",
    "\n",
    "date1 = int(datetime.datetime(2020,10,1).timestamp())\n",
    "date2 = int(datetime.datetime(2020,11,3).timestamp())\n",
    "\n",
    "gen = api.search_submissions(num_comments= '>5',\n",
    "                             subreddit=my_subreddit, \n",
    "                             after=date1, \n",
    "                             before=date2, \n",
    "                             q=query\n",
    "                            )\n",
    "results = list(gen)\n",
    "\n",
    "column_names = ['title', 'id', 'score', 'author', 'num_comments', 'url']\n",
    "\n",
    "df = pd.DataFrame(\n",
    "    {\n",
    "        column_names[0] : [submission.d_[column_names[0]] for submission in results],\n",
    "        column_names[1] : [submission.d_[column_names[1]] for submission in results],\n",
    "        column_names[2] : [submission.d_[column_names[2]] for submission in results],\n",
    "        column_names[3] : [submission.d_[column_names[3]] for submission in results],\n",
    "        column_names[4] : [submission.d_[column_names[4]] for submission in results],\n",
    "        column_names[5] : [submission.d_[column_names[5]] for submission in results]\n",
    "    },\n",
    "    index = [submission.d_['created_utc'] for submission in results])\n",
    "df.index = pd.to_datetime(df.index, unit='s')"
   ]
  },
  {
   "cell_type": "code",
   "execution_count": null,
   "id": "7aaf14fc",
   "metadata": {},
   "outputs": [],
   "source": []
  },
  {
   "cell_type": "code",
   "execution_count": null,
   "id": "9114a386",
   "metadata": {},
   "outputs": [],
   "source": []
  },
  {
   "cell_type": "markdown",
   "id": "47c73983",
   "metadata": {},
   "source": [
    "### Why this dataset"
   ]
  },
  {
   "cell_type": "markdown",
   "id": "b3899b9a",
   "metadata": {},
   "source": [
    "# 2 Basic stats"
   ]
  },
  {
   "cell_type": "markdown",
   "id": "cf64f339",
   "metadata": {},
   "source": [
    "# 3 Tools, theory and analysis"
   ]
  },
  {
   "cell_type": "markdown",
   "id": "1d0021ad",
   "metadata": {},
   "source": [
    "# 4 Discussion\n",
    "\n",
    "### What is still missing?\n",
    "\n",
    "### What could be improved?\n",
    "\n",
    "It would undoubtedly have been interesting to investigate the political content on r/politics over a longer time period, e.g. six months preceeding the election day, which would allow for the detection of longer term trends in redditor activity and sentiment. For such a scope to be feasible, bigger computational muscles than what the group members had at their disposal. "
   ]
  }
 ],
 "metadata": {
  "kernelspec": {
   "display_name": "Python 3 (ipykernel)",
   "language": "python",
   "name": "python3"
  },
  "language_info": {
   "codemirror_mode": {
    "name": "ipython",
    "version": 3
   },
   "file_extension": ".py",
   "mimetype": "text/x-python",
   "name": "python",
   "nbconvert_exporter": "python",
   "pygments_lexer": "ipython3",
   "version": "3.8.12"
  }
 },
 "nbformat": 4,
 "nbformat_minor": 5
}
