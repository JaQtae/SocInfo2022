{
 "cells": [
  {
   "cell_type": "code",
   "execution_count": 55,
   "id": "fc169db5",
   "metadata": {},
   "outputs": [],
   "source": [
    "# Importing data from the r/politics\n",
    "from psaw import PushshiftAPI\n",
    "import datetime\n",
    "import pandas as pd\n",
    "import os\n",
    "import re\n",
    "import numpy as np\n",
    "from tqdm import tqdm\n",
    "from vaderSentiment.vaderSentiment import SentimentIntensityAnalyzer\n",
    "from nltk.corpus import stopwords\n",
    "from nltk import word_tokenize\n",
    "import string\n",
    "import matplotlib.pyplot as plt\n",
    "import matplotlib as mpl\n",
    "import matplotlib.dates as mdates\n",
    "import seaborn as sns\n",
    "import dataframe_image as dfi"
   ]
  },
  {
   "cell_type": "markdown",
   "id": "a3099f07",
   "metadata": {},
   "source": [
    "# 1. Motivation\n",
    "\n",
    "### The Reddit dataset\n",
    "\n",
    "For this project, we chose to work with data from the [r/politics](https://www.reddit.com/r/politics/) subreddit, an online forum with 8 million members \"for current and explicitly political U.S. news.\" according to the rules stated on the site. \n",
    "\n",
    "Visitors at r/politics will quickly notice that the majority of the submissions are by users posting links to news articles published on news media sites like CNN or The Huffington Post. The headlines of these linked articles are then shown on r/politics as the titles of the submissions. Other users can then comment on the linked article, which is what ultimately constitutes the actual user-generated content on the site. \n",
    "\n",
    "We focused our data extraction to only include submissions from r/politics that fulfilled the following criteria: \n",
    "* __They contained \"Trump\" or \"Biden\" in the title.__ While submissions containing other words and names than \"Trump\" and \"Biden\" (e.g. \"Republican\" and \"Democrat\") might be used to provide equally good indications of the political convictions of redditors, this textual query allowed us to limit the scope of the project while still extracting data essential to the aim of this project. \n",
    "* __They had received more than five comments.__ This requirement was to prevent us from downloading submissions with no or only a very small comments section, as we'll be using the comments to conduct the later sentiment analysis and produce a partitioning of the redditors. \n",
    "* __They had been published between 10-1-2020 and 11-3-2020.__ This period covered approximately a month before the most recent U.S. presidential election that took place on 11-3-2020. Ideally, we would have covered several months leading up to the election day, in order to detect longer term trends in the data. However, that would prove to be computationally infeasible, given the amount of data this would yield. \n",
    "\n",
    "__Submission variables__\n",
    "\n",
    "The downloaded submissions would be structured in a Pandas dataframe containing the following variables for each submission in its respective columns: \n",
    "1. __time stamp index:__ Simply stating when the submissions was made.\n",
    "2. __title:__ Being the title of the submission. Usually the header of the linked article. \n",
    "3. __id:__ A unique identifier for a particular submission. \n",
    "4. __author:__ The profile name of the author of the submissions.\n",
    "5. __num_comments:__ The number of comments received on the particular submission.\n",
    "6. __url:__ The link stated in the text of the submission.\n",
    "\n",
    "Our query to extract comments from the r/politics subreddit was also focused to only include comments fulfilling the following criteria: \n",
    "* __They were related to one of the downloaded submissions.__ \n",
    "* __They were posted no later than 11-10-2020.__ By including comments posted up to one week after the election day, we would ensure that we would also have some comments for any submissions made on the election day, without including comments that were made way after the objective period, which would not be representative of the sentiment during the objective period. \n",
    "\n",
    "__Comments variables__\n",
    "\n",
    "As stated, we would download the associated comments section for all the downloaded submissions. Similarly to the submissions, the comments would be structured in a Pandas dataframe containing the following variables for each comment in its respective columns:\n",
    "1. __time stamp index:__ Simply stating when the submissions was made.\n",
    "2. __id:__ A unique identifier for a particular submission. \n",
    "3. __link_id:__ A unique identifier for the original submission to which the comment relates, somewhere in the comments section.\n",
    "4. __author:__ The profile name of the author of the submissions.\n",
    "5. __parent_id:__ A unique identifier for the post to which the comment was made. This may either be a submission or a comment, which is indicated with with the parent_id starting with either \"t3_\" or \"t1_\".\n",
    "6. __body:__ The textual content of the comment. \n",
    "\n",
    "\n",
    "__Reasons for choosing this particular data set__ <br>\n",
    "1. Easy to collect using the Pushshift API.\n",
    "2. Interesting topic that would fit the requirements of the project.\n",
    "3. Similar format as the data we've previously worked with.\n",
    "\n",
    "### The polling dataset\n",
    "The polling data used in this project is collected from [FiveThirtyEight](https://data.fivethirtyeight.com/). \n",
    "The data set contains polling results from our objective period, generated by different polling firms like YouGov and SurveyMonkey. Each poll has been generated over a smaller time window, typically spanning a couple of days, and with varying number of respondents. By the end of the polls, the percentage of respondents who have voted for a specific candidate has been registered. We have not investigated further how the individual polling firms have performed the polls, but we put our faith in their ability to make polls representative of the American population. \n",
    "\n",
    "\n",
    "### Goal for end user's experience\n",
    "Our goal is for the end user's of our website to have a blast digesting our the findings of our analyses presented in a beautiful and thought-provoking way. \n",
    "\n",
    "Below, we show how we got the data"
   ]
  },
  {
   "cell_type": "code",
   "execution_count": 4,
   "id": "8502990b",
   "metadata": {},
   "outputs": [
    {
     "name": "stderr",
     "output_type": "stream",
     "text": [
      "C:\\Users\\Lasse\\anaconda3\\lib\\site-packages\\psaw\\PushshiftAPI.py:252: UserWarning: Not all PushShift shards are active. Query results may be incomplete\n",
      "  warnings.warn(shards_down_message)\n"
     ]
    }
   ],
   "source": [
    "# Note this is just a POC with a limit=100. \n",
    "api = PushshiftAPI()\n",
    "\n",
    "my_subreddit = \"politics\"\n",
    "query = \"Trump | Biden \"\n",
    "\n",
    "date1 = int(datetime.datetime(2020,10,1).timestamp())\n",
    "date2 = int(datetime.datetime(2020,11,3).timestamp())\n",
    "\n",
    "gen = api.search_submissions(num_comments= '>5',\n",
    "                             subreddit=my_subreddit, \n",
    "                             after=date1, \n",
    "                             before=date2, \n",
    "                             q=query\n",
    "                             #,limit=100\n",
    "                            )\n",
    "results = list(gen)"
   ]
  },
  {
   "cell_type": "code",
   "execution_count": 49,
   "id": "65dbcf46",
   "metadata": {},
   "outputs": [],
   "source": [
    "column_names = ['title', 'id', 'author', 'num_comments', 'url']\n",
    "\n",
    "subs_df = pd.DataFrame(\n",
    "    {\n",
    "        column_names[0] : [submission.d_[column_names[0]] for submission in results],\n",
    "        column_names[1] : [submission.d_[column_names[1]] for submission in results],\n",
    "        column_names[2] : [submission.d_[column_names[2]] for submission in results],\n",
    "        column_names[3] : [submission.d_[column_names[3]] for submission in results],\n",
    "        column_names[4] : [submission.d_[column_names[4]] for submission in results]\n",
    "    },\n",
    "    index = [submission.d_['created_utc'] for submission in results])\n",
    "subs_df.index = pd.to_datetime(subs_df.index, unit='s')"
   ]
  },
  {
   "cell_type": "markdown",
   "id": "19e429aa",
   "metadata": {},
   "source": [
    "To ensure that each submissions is unambigously related to either one of the candidates, we simply remove all submissions containing both \"Trump\" and \"Biden\". "
   ]
  },
  {
   "cell_type": "code",
   "execution_count": 51,
   "id": "5c34fa27",
   "metadata": {},
   "outputs": [],
   "source": [
    "# List to contain indices of subs in df with a title containing both \"Trump\" and \"Biden\"\n",
    "TB = []\n",
    "for i in range(len(df['title'])):\n",
    "    if (re.search('Trump', subs_df['title'][i])) and (re.search('Biden', subs_df['title'][i])):\n",
    "        TB.append(i)\n",
    "    else:\n",
    "        continue\n",
    "        \n",
    "subs_df = subs_df.drop(subs_df.index[TB])"
   ]
  },
  {
   "cell_type": "code",
   "execution_count": 329,
   "id": "5539409b",
   "metadata": {},
   "outputs": [],
   "source": [
    "sub_data = subs_df"
   ]
  },
  {
   "cell_type": "markdown",
   "id": "4dc8c647",
   "metadata": {},
   "source": [
    "Now we're ready to download the associated comments sections for each of the remaining submissions. "
   ]
  },
  {
   "cell_type": "code",
   "execution_count": 179,
   "id": "237cb3cf",
   "metadata": {},
   "outputs": [
    {
     "name": "stderr",
     "output_type": "stream",
     "text": [
      "  0%|          | 0/82 [00:00<?, ?it/s]C:\\Users\\Lasse\\anaconda3\\lib\\site-packages\\psaw\\PushshiftAPI.py:252: UserWarning: Not all PushShift shards are active. Query results may be incomplete\n",
      "  warnings.warn(shards_down_message)\n",
      " 12%|█▏        | 10/82 [00:16<01:44,  1.46s/it]C:\\Users\\Lasse\\anaconda3\\lib\\site-packages\\psaw\\PushshiftAPI.py:192: UserWarning: Got non 200 code 429\n",
      "  warnings.warn(\"Got non 200 code %s\" % response.status_code)\n",
      "C:\\Users\\Lasse\\anaconda3\\lib\\site-packages\\psaw\\PushshiftAPI.py:180: UserWarning: Unable to connect to pushshift.io. Retrying after backoff.\n",
      "  warnings.warn(\"Unable to connect to pushshift.io. Retrying after backoff.\")\n",
      "100%|██████████| 82/82 [04:32<00:00,  3.32s/it]\n"
     ]
    }
   ],
   "source": [
    "date3 = int(datetime.datetime(2020,11,10).timestamp())\n",
    "\n",
    "comments = []\n",
    "for link_id in tqdm(subs_df['id']):\n",
    "    gen = api.search_comments(subreddit=my_subreddit,\n",
    "                              link_id=link_id,\n",
    "                              before=date3)\n",
    "    comment_sec = list(gen)\n",
    "    comments += comment_sec"
   ]
  },
  {
   "cell_type": "code",
   "execution_count": 500,
   "id": "bc7033ae",
   "metadata": {},
   "outputs": [],
   "source": [
    "column_names = ['id', 'link_id', 'author', 'parent_id', 'body']\n",
    "\n",
    "coms_df = pd.DataFrame(\n",
    "    {\n",
    "        column_names[0] : [comment.d_[column_names[0]] for comment in comments],\n",
    "        column_names[1] : [comment.d_[column_names[1]] for comment in comments],\n",
    "        column_names[2] : [comment.d_[column_names[2]] for comment in comments],\n",
    "        column_names[3] : [comment.d_[column_names[3]] for comment in comments],\n",
    "        column_names[4] : [comment.d_[column_names[4]] for comment in comments]\n",
    "    },\n",
    "    columns= column_names, index = [comment.d_['created_utc'] for comment in comments])\n",
    "\n",
    "coms_df.index = pd.to_datetime(coms_df.index, unit='s')"
   ]
  },
  {
   "cell_type": "markdown",
   "id": "3143c94c",
   "metadata": {},
   "source": [
    "# 2 Cleaning, preprocessing and stats\n",
    "\n",
    "### Processing the submissions\n",
    "\n",
    "__Determining the mentioned politician__<br>\n",
    "We need to determine whether the collected submissions are relating to either Trump or Biden, as we have already removed all the submissions including both names. We do this simply by searching the title of the submissions for these names and adding a \"politician\" variable to each submission stating which of the politians are mentioned. "
   ]
  },
  {
   "cell_type": "code",
   "execution_count": 10,
   "id": "cd320ef6",
   "metadata": {},
   "outputs": [],
   "source": [
    "# Downloading all the submissions (processed)\n",
    "local_storage = r\"C:\\Users\\Lasse\\Desktop\\DTU\\6. semester\\Social informatik\\Exam project local\\Data\\politics_subs_processed.csv\"\n",
    "sub_data = pd.read_csv(local_storage,index_col=0,parse_dates=[0])"
   ]
  },
  {
   "cell_type": "code",
   "execution_count": 12,
   "id": "f7fcdf64",
   "metadata": {},
   "outputs": [
    {
     "name": "stderr",
     "output_type": "stream",
     "text": [
      "100%|██████████| 9018/9018 [00:00<00:00, 237343.42it/s]\n"
     ]
    }
   ],
   "source": [
    "def determine_politician_subs(title):\n",
    "        if (re.search('Trump', title)):\n",
    "            return 'Trump'\n",
    "        else:\n",
    "            return 'Biden'\n",
    "tqdm.pandas()\n",
    "sub_data['politician'] = sub_data['title'].progress_apply(determine_politician_subs)"
   ]
  },
  {
   "cell_type": "markdown",
   "id": "65ce6023",
   "metadata": {},
   "source": [
    "In this section we will dicuss our cleaning and preprocessing of the collected data.\n",
    "Our main data is the collected comments dataframe. \n",
    "\n",
    "### Cleaning and preprocessing the comments\n",
    "The main reason for having to clean the comments data is to prepare it for the later sentiment analysis. For this analysis, we will be using the Valence Aware Dictionary and sEntiment Reasoner ([VADER](https://towardsdatascience.com/an-short-introduction-to-vader-3f3860208d53)) module from the nltk.sentiment library, which has been specifically created to work with text produced on social media. One of the great features of this module is that it is quite robust in terms of the needed data cleaning and processing to function properly. Typical processing steps like tokenization and stemming as well as removing stop words are consequently not required to have the VADER module work well and provide an indication of the sentiment of a body of text. "
   ]
  },
  {
   "cell_type": "code",
   "execution_count": 11,
   "id": "9b9acbc3",
   "metadata": {},
   "outputs": [],
   "source": [
    "# Downloading all the comments data (not processed)\n",
    "#url = 'https://raw.githubusercontent.com/JaQtae/SocInfo2022/FinalProject/Data/politics_comments_very_smol_fully_processed.csv'\n",
    "local_storage = r\"C:\\Users\\JaQtae\\Desktop\\SocInfo2022\\Data\\politics_comments_big.csv\"\n",
    "com_data = pd.read_csv(local_storage,index_col=0,parse_dates=[0])\n",
    "# The collected comments data set still contained some data from 2020-09-30. This is removed. \n",
    "com_data = com_data[com_data.index > \"2020-10-01\"]\n",
    "\n",
    "# Make sure all text bodies are of type string. \n",
    "com_data[\"body\"] = com_data[\"body\"].apply(str)"
   ]
  },
  {
   "cell_type": "markdown",
   "id": "9590254b",
   "metadata": {},
   "source": [
    "__Removing deleted comments__<br>\n",
    "Some of the comments have been removed after being posted, so we'll do some cleaning first by filtering out the comments where author = \"[deleted]\", which will do the job. Similarly, we found that a large part of the comments were made by moderator robots reminding real redditors to behave in accordance with the subreddit rules. Comments made by these bots are also removed. "
   ]
  },
  {
   "cell_type": "code",
   "execution_count": 12,
   "id": "dc340074",
   "metadata": {},
   "outputs": [],
   "source": [
    "com_data = com_data.drop(com_data[com_data['author'] == '[deleted]'].index)\n",
    "com_data = com_data.drop(com_data[com_data['author'] == 'AutoModerator'].index)\n",
    "com_data = com_data.drop(com_data[com_data['author'] == 'PoliticsModeratorBot'].index)"
   ]
  },
  {
   "cell_type": "markdown",
   "id": "d372119d",
   "metadata": {},
   "source": [
    "__Removing comments by authors with less than 50 comments__<br>\n",
    "We also remove all comments by authors who have posted less than 50 comments in total. The reason for this being that we would like to have a more solid foundation on which to infer the political convictions of the redditors, which would not be achieved if we had only very few comments made by them."
   ]
  },
  {
   "cell_type": "code",
   "execution_count": 13,
   "id": "26bd3425",
   "metadata": {},
   "outputs": [],
   "source": [
    "com_data = com_data.groupby('author').filter(lambda x : len(x)>=50)"
   ]
  },
  {
   "cell_type": "markdown",
   "id": "16eeb3ea",
   "metadata": {},
   "source": [
    "__Finding parent authors for the comments__<br>\n",
    "To later build our network of redditors, we will populate the comments dataframe with the names of the parent authors.\n",
    "This will create some [deleted] and NaN values which we will delete."
   ]
  },
  {
   "cell_type": "code",
   "execution_count": 14,
   "id": "809be967",
   "metadata": {},
   "outputs": [],
   "source": [
    "comment_authors = dict(zip(com_data.id, com_data.author))\n",
    "parent = dict(zip(com_data.id, com_data.parent_id))\n",
    "submission_authors = dict(zip(sub_data.id, sub_data.author))"
   ]
  },
  {
   "cell_type": "code",
   "execution_count": 15,
   "id": "f594e984",
   "metadata": {},
   "outputs": [],
   "source": [
    "def find_parent_author(comment_id):\n",
    "    parent_id = parent[comment_id]    \n",
    "    \n",
    "    if parent_id[:3] == 't1_':\n",
    "        return comment_authors.get(parent_id[3:], None)\n",
    "    \n",
    "    elif parent_id[:3] == 't3_':\n",
    "        return submission_authors.get(parent_id[3:], None)\n",
    "\n",
    "com_data[\"parent_author\"] = com_data.id.apply(find_parent_author)\n",
    "com_data = com_data.drop(com_data[com_data['parent_author'] == '[deleted]'].index) # Remove deleteds\n",
    "com_data = com_data.drop(com_data[com_data['parent_author'].isna()].index) # Remove NaN's"
   ]
  },
  {
   "cell_type": "code",
   "execution_count": 17,
   "id": "adff0814",
   "metadata": {},
   "outputs": [],
   "source": [
    "# Downloading all the comments data (processed)\n",
    "#url = 'https://raw.githubusercontent.com/JaQtae/SocInfo2022/FinalProject/Data/politics_comments_very_smol_fully_processed.csv'\n",
    "local_storage = local_storage = r\"C:\\Users\\JaQtae\\Desktop\\SocInfo2022\\Data\\politics_comments_big_processed.csv\"\n",
    "com_data = pd.read_csv(local_storage,index_col=0,parse_dates=[0])\n",
    "# The collected comments data set still contained some data from 2020-09-30. This is removed. \n",
    "com_data = com_data[com_data.index > \"2020-10-01\"]\n",
    "\n",
    "# Make sure all text bodies are of type string. \n",
    "com_data[\"body\"] = com_data[\"body\"].apply(str)"
   ]
  },
  {
   "cell_type": "markdown",
   "id": "fecdb6a2",
   "metadata": {},
   "source": [
    "__Tokenization__ <br>\n",
    "As we will also be looking into producing other textual analyses than the VADER sentiment scores, like wordclouds, we will also need to do some tokenization ourselves. \n",
    "For the body of each comment, we will do the following steps: \n",
    "   * Exclude punctuation.\n",
    "   * Exclude URLs\n",
    "   * Exclude English stop words\n",
    "   * Exclude numbers.\n",
    "   * Set everything to lower case. \n",
    "   \n",
    "The results of this preprocessing will be a new column in the comments dataframe containing the cleaned tokens of the text body. "
   ]
  },
  {
   "cell_type": "code",
   "execution_count": 19,
   "id": "e7279b4e",
   "metadata": {},
   "outputs": [
    {
     "name": "stderr",
     "output_type": "stream",
     "text": [
      "100%|████████████████████████████████████████████████████████████████████████| 250910/250910 [01:15<00:00, 3303.89it/s]\n"
     ]
    }
   ],
   "source": [
    "# Define stop words to also include punctuation\n",
    "stop = set(stopwords.words('english') + list(string.punctuation))\n",
    "# Function to tokenize and clean the text of each submission\n",
    "def clean_tokens(text):\n",
    "    tokens = nltk.word_tokenize(text)\n",
    "    clean_tokens = [re.sub(r'http\\S+', '', str(i)).lower() for i in tokens if str(i).isalpha()]\n",
    "    clean_tokens = [re.sub(r'&\\S+', '', str(i)) for i in clean_tokens]\n",
    "    clean_tokens = [t for t in clean_tokens if t not in stop]\n",
    "    return clean_tokens\n",
    "\n",
    "com_data[\"tokens\"] = com_data.progress_apply(lambda x: clean_tokens(x[\"body\"]), axis=1)"
   ]
  },
  {
   "cell_type": "markdown",
   "id": "d5d3cc2f",
   "metadata": {},
   "source": [
    "__Determining whether the comments are \"Trump\" or \"Biden\" -related__ <br>\n",
    "For each of the collected comments, we need to know whether the comment relates to Trump or Biden. Our plan to achieve this is to first assign a \"politician\" variable to all comments that matches the \"politician\" value of the submission to which the comments was made. "
   ]
  },
  {
   "cell_type": "code",
   "execution_count": 20,
   "id": "59a72076",
   "metadata": {},
   "outputs": [
    {
     "name": "stderr",
     "output_type": "stream",
     "text": [
      "100%|████████████████████████████████████████████████████████████████████████| 250910/250910 [03:37<00:00, 1152.10it/s]\n"
     ]
    }
   ],
   "source": [
    "def determine_politician_coms(link_id):\n",
    "    #Get the id of the original submission\n",
    "    real_id = link_id[3:]   \n",
    "    # Find the politician value of the corresponding submission\n",
    "    sub_politician = sub_data.loc[sub_data['id'] == real_id]['politician']\n",
    "    sub_politician = sub_politician.values[0]\n",
    "    return sub_politician \n",
    "com_data['politician'] = com_data['link_id'].progress_apply(determine_politician_coms)"
   ]
  },
  {
   "cell_type": "markdown",
   "id": "f062264b",
   "metadata": {},
   "source": [
    "This assignment of \"politician\" values i very naive, as it does not take into account the possibility of the actual comments mentioning either of the politicians. To overcome this, we will prune the comments section tree so that whenever a comment mentions a different politician than what is currently stated as its \"politician\" value, we will remove this comment along with all comments made to that comment - the so-called children of the comment. This way, we ensure an unambiguous picture of which politician each comment relates to. \n",
    "\n",
    "This procedure requires us to also know the children of each comment, which find below:"
   ]
  },
  {
   "cell_type": "code",
   "execution_count": 21,
   "id": "ae0d44c4",
   "metadata": {},
   "outputs": [
    {
     "name": "stderr",
     "output_type": "stream",
     "text": [
      "100%|████████████████████████████████████████████████████████████████████████| 250910/250910 [1:18:12<00:00, 53.47it/s]\n"
     ]
    }
   ],
   "source": [
    "# A list of all the id's in the comments datafram\n",
    "com_ids = list(com_data['id'].values)\n",
    "\n",
    "# We create a dictionary with keys equal to the id's in of the comments and values equal to their respective \"children\" comments\n",
    "children_dict = {com_id: [] for com_id in com_ids}\n",
    "\n",
    "for com_id in tqdm(com_ids): \n",
    "    parent_id = com_data.loc[com_data['id'] == com_id]['parent_id']\n",
    "    parent_id = parent_id.values[0]\n",
    "    parent_id = parent_id[3:]\n",
    "    if parent_id in com_ids: \n",
    "        children_dict[parent_id].append(com_id)"
   ]
  },
  {
   "cell_type": "code",
   "execution_count": 22,
   "id": "d1c29131",
   "metadata": {},
   "outputs": [
    {
     "name": "stderr",
     "output_type": "stream",
     "text": [
      "100%|██████████████████████████████████████████████████████████████████████| 250910/250910 [00:00<00:00, 796087.03it/s]\n"
     ]
    }
   ],
   "source": [
    "# Append the children comments to the comments dataframe\n",
    "def determine_children(com_id):\n",
    "    return children_dict[com_id]    \n",
    "\n",
    "com_data['children_comments'] = com_data['id'].progress_apply(determine_children)"
   ]
  },
  {
   "cell_type": "markdown",
   "id": "b7aebec7",
   "metadata": {},
   "source": [
    "Now we will figure out whether each comment itself mentions \"Trump\" or \"Biden\". "
   ]
  },
  {
   "cell_type": "code",
   "execution_count": 23,
   "id": "2adb4a9c",
   "metadata": {},
   "outputs": [
    {
     "name": "stderr",
     "output_type": "stream",
     "text": [
      "100%|████████████████████████████████████████████████████████████████████████| 250910/250910 [1:04:39<00:00, 64.68it/s]\n",
      "100%|████████████████████████████████████████████████████████████████████████| 250910/250910 [1:03:56<00:00, 65.41it/s]\n"
     ]
    }
   ],
   "source": [
    "def comment_mentions_Trump(com_id):\n",
    "    mentions_Trump = False\n",
    "    tokenized_body = \" \".join(com_data.loc[com_data['id'] == com_id]['tokens'].values[0])\n",
    "    if (re.search('trump', tokenized_body)):\n",
    "        mentions_Trump = True\n",
    "        return mentions_Trump\n",
    "    \n",
    "def comment_mentions_Biden(com_id):\n",
    "    mentions_Biden = False\n",
    "    tokenized_body = \" \".join(com_data.loc[com_data['id'] == com_id]['tokens'].values[0])\n",
    "    if (re.search('biden', tokenized_body)):\n",
    "        mentions_Biden = True\n",
    "        return mentions_Biden\n",
    "    \n",
    "com_data['mentions_Trump'] = com_data['id'].progress_apply(comment_mentions_Trump)\n",
    "com_data['mentions_Biden'] = com_data['id'].progress_apply(comment_mentions_Biden)"
   ]
  },
  {
   "cell_type": "code",
   "execution_count": 24,
   "id": "d420add9",
   "metadata": {},
   "outputs": [],
   "source": [
    "comments_to_delete = []\n",
    "\n",
    "# Function to find the comments to be deleted due to amgious politician relation. \n",
    "def find_coms_to_be_deleted(com_id):\n",
    "\n",
    "    if com_id not in comments_to_delete: \n",
    "        mentions_Biden = com_data.loc[com_data['id'] == com_id]['mentions_Biden']\n",
    "        mentions_Biden = mentions_Biden.values[0]\n",
    "\n",
    "        mentions_Trump = com_data.loc[com_data['id'] == com_id]['mentions_Trump']\n",
    "        mentions_Trump = mentions_Trump.values[0]\n",
    "\n",
    "        politician = com_data.loc[com_data['id'] == com_id]['politician']\n",
    "        politician = politician.values[0]\n",
    "\n",
    "        children = com_data.loc[com_data['id'] == com_id]['children_comments']\n",
    "        children = children.values[0]\n",
    "\n",
    "        if (politician == 'Biden' and mentions_Trump) or (politician == 'Trump' and mentions_Biden): \n",
    "\n",
    "            comments_to_delete.append(com_id)\n",
    "\n",
    "            if len(children): \n",
    "                for child in children:\n",
    "                    comments_to_delete.append(child)\n",
    "                    find_coms_to_be_deleted(child)"
   ]
  },
  {
   "cell_type": "code",
   "execution_count": 25,
   "id": "2fba15fb",
   "metadata": {},
   "outputs": [
    {
     "name": "stderr",
     "output_type": "stream",
     "text": [
      "100%|████████████████████████████████████████████████████████████████████████| 250910/250910 [4:09:08<00:00, 16.79it/s]\n"
     ]
    }
   ],
   "source": [
    "for com_id in tqdm(com_ids): \n",
    "    find_coms_to_be_deleted(com_id)"
   ]
  },
  {
   "cell_type": "code",
   "execution_count": null,
   "id": "100a1cc8",
   "metadata": {},
   "outputs": [],
   "source": [
    "comments_to_delete= list(set(comments_to_delete))\n",
    "for com_id in tqdm(comments_to_delete):\n",
    "    com_index = com_data.id[com_data.id == com_id].index\n",
    "    com_data = com_data.drop(com_index)"
   ]
  },
  {
   "cell_type": "code",
   "execution_count": 77,
   "id": "f5138815",
   "metadata": {},
   "outputs": [],
   "source": [
    "# Loading the processed comments data set\n",
    "com_data = pd.read_csv(r\"C:\\Users\\Lasse\\Desktop\\DTU\\6. semester\\Social informatik\\Exam project local\\GitHub\\SocInfo2022\\Data\\politics_comments_big_with_sentiment_newest.csv\").set_index(\"dates\")"
   ]
  },
  {
   "cell_type": "code",
   "execution_count": 87,
   "id": "2f2e449d",
   "metadata": {},
   "outputs": [
    {
     "data": {
      "text/html": [
       "<div>\n",
       "<style scoped>\n",
       "    .dataframe tbody tr th:only-of-type {\n",
       "        vertical-align: middle;\n",
       "    }\n",
       "\n",
       "    .dataframe tbody tr th {\n",
       "        vertical-align: top;\n",
       "    }\n",
       "\n",
       "    .dataframe thead th {\n",
       "        text-align: right;\n",
       "    }\n",
       "</style>\n",
       "<table border=\"1\" class=\"dataframe\">\n",
       "  <thead>\n",
       "    <tr style=\"text-align: right;\">\n",
       "      <th></th>\n",
       "      <th>ID</th>\n",
       "      <th>Link ID</th>\n",
       "      <th>Author</th>\n",
       "      <th>Parent ID</th>\n",
       "      <th>Body</th>\n",
       "      <th>Parent author</th>\n",
       "      <th>Tokens</th>\n",
       "      <th>Politician of related submission</th>\n",
       "      <th>Children comments</th>\n",
       "      <th>Mentions Trump</th>\n",
       "      <th>Mentions Biden</th>\n",
       "      <th>compound_sentiment_score</th>\n",
       "    </tr>\n",
       "    <tr>\n",
       "      <th>dates</th>\n",
       "      <th></th>\n",
       "      <th></th>\n",
       "      <th></th>\n",
       "      <th></th>\n",
       "      <th></th>\n",
       "      <th></th>\n",
       "      <th></th>\n",
       "      <th></th>\n",
       "      <th></th>\n",
       "      <th></th>\n",
       "      <th></th>\n",
       "      <th></th>\n",
       "    </tr>\n",
       "  </thead>\n",
       "  <tbody>\n",
       "    <tr>\n",
       "      <th>2020-11-03 00:23:36</th>\n",
       "      <td>gaycvmz</td>\n",
       "      <td>t3_jmybs3</td>\n",
       "      <td>yyungpiss</td>\n",
       "      <td>t3_jmybs3</td>\n",
       "      <td>is there some sort of weird strategy to this o...</td>\n",
       "      <td>geoxol</td>\n",
       "      <td>['sort', 'weird', 'strategy', 'something', 'la...</td>\n",
       "      <td>Trump</td>\n",
       "      <td>[]</td>\n",
       "      <td>NaN</td>\n",
       "      <td>NaN</td>\n",
       "      <td>0.1298</td>\n",
       "    </tr>\n",
       "    <tr>\n",
       "      <th>2020-11-02 23:26:26</th>\n",
       "      <td>gay6kwb</td>\n",
       "      <td>t3_jmybs3</td>\n",
       "      <td>J_Class_Ford</td>\n",
       "      <td>t1_gay5x5w</td>\n",
       "      <td>Division is his weapon</td>\n",
       "      <td>cyanydeez</td>\n",
       "      <td>['division', 'weapon']</td>\n",
       "      <td>Trump</td>\n",
       "      <td>[]</td>\n",
       "      <td>NaN</td>\n",
       "      <td>NaN</td>\n",
       "      <td>-0.2960</td>\n",
       "    </tr>\n",
       "    <tr>\n",
       "      <th>2020-11-02 23:20:27</th>\n",
       "      <td>gay5x5w</td>\n",
       "      <td>t3_jmybs3</td>\n",
       "      <td>cyanydeez</td>\n",
       "      <td>t1_gay5pjk</td>\n",
       "      <td>dunno, everything trump does seems to generate...</td>\n",
       "      <td>J_Class_Ford</td>\n",
       "      <td>['dunno', 'everything', 'trump', 'seems', 'gen...</td>\n",
       "      <td>Trump</td>\n",
       "      <td>['gay6kwb']</td>\n",
       "      <td>True</td>\n",
       "      <td>NaN</td>\n",
       "      <td>0.0000</td>\n",
       "    </tr>\n",
       "    <tr>\n",
       "      <th>2020-11-02 23:18:33</th>\n",
       "      <td>gay5pjk</td>\n",
       "      <td>t3_jmybs3</td>\n",
       "      <td>J_Class_Ford</td>\n",
       "      <td>t1_gay5doq</td>\n",
       "      <td>Not sure it generates many more votes. I work ...</td>\n",
       "      <td>cyanydeez</td>\n",
       "      <td>['not', 'sure', 'generates', 'many', 'votes', ...</td>\n",
       "      <td>Trump</td>\n",
       "      <td>['gay5x5w']</td>\n",
       "      <td>True</td>\n",
       "      <td>NaN</td>\n",
       "      <td>-0.0160</td>\n",
       "    </tr>\n",
       "    <tr>\n",
       "      <th>2020-11-02 23:15:36</th>\n",
       "      <td>gay5doq</td>\n",
       "      <td>t3_jmybs3</td>\n",
       "      <td>cyanydeez</td>\n",
       "      <td>t1_gay3si8</td>\n",
       "      <td>yeah, but for every vote this generates, would...</td>\n",
       "      <td>J_Class_Ford</td>\n",
       "      <td>['yeah', 'every', 'vote', 'generates', 'would'...</td>\n",
       "      <td>Trump</td>\n",
       "      <td>['gay5pjk']</td>\n",
       "      <td>NaN</td>\n",
       "      <td>NaN</td>\n",
       "      <td>0.5450</td>\n",
       "    </tr>\n",
       "    <tr>\n",
       "      <th>...</th>\n",
       "      <td>...</td>\n",
       "      <td>...</td>\n",
       "      <td>...</td>\n",
       "      <td>...</td>\n",
       "      <td>...</td>\n",
       "      <td>...</td>\n",
       "      <td>...</td>\n",
       "      <td>...</td>\n",
       "      <td>...</td>\n",
       "      <td>...</td>\n",
       "      <td>...</td>\n",
       "      <td>...</td>\n",
       "    </tr>\n",
       "    <tr>\n",
       "      <th>2020-10-01 01:25:30</th>\n",
       "      <td>g78ozrz</td>\n",
       "      <td>t3_j2vwwt</td>\n",
       "      <td>5DollarHitJob</td>\n",
       "      <td>t3_j2vwwt</td>\n",
       "      <td>Can they just appeal this?</td>\n",
       "      <td>Plymouth03</td>\n",
       "      <td>['can', 'appeal']</td>\n",
       "      <td>Trump</td>\n",
       "      <td>[]</td>\n",
       "      <td>NaN</td>\n",
       "      <td>NaN</td>\n",
       "      <td>0.0000</td>\n",
       "    </tr>\n",
       "    <tr>\n",
       "      <th>2020-10-01 01:24:25</th>\n",
       "      <td>g78ovcd</td>\n",
       "      <td>t3_j2vwwt</td>\n",
       "      <td>AmishTechno</td>\n",
       "      <td>t3_j2vwwt</td>\n",
       "      <td>And, nothing will happen.</td>\n",
       "      <td>Plymouth03</td>\n",
       "      <td>['and', 'nothing', 'happen']</td>\n",
       "      <td>Trump</td>\n",
       "      <td>[]</td>\n",
       "      <td>NaN</td>\n",
       "      <td>NaN</td>\n",
       "      <td>0.0000</td>\n",
       "    </tr>\n",
       "    <tr>\n",
       "      <th>2020-10-01 00:29:42</th>\n",
       "      <td>g78j6ey</td>\n",
       "      <td>t3_j2vwwt</td>\n",
       "      <td>ryhaltswhiskey</td>\n",
       "      <td>t1_g78iult</td>\n",
       "      <td>Ah I did not know that\\r\\n\\r\\nMan I hope Barr ...</td>\n",
       "      <td>memepolizia</td>\n",
       "      <td>['ah', 'i', 'know', 'man', 'i', 'hope', 'barr'...</td>\n",
       "      <td>Trump</td>\n",
       "      <td>[]</td>\n",
       "      <td>NaN</td>\n",
       "      <td>NaN</td>\n",
       "      <td>0.4404</td>\n",
       "    </tr>\n",
       "    <tr>\n",
       "      <th>2020-10-01 00:07:18</th>\n",
       "      <td>g78gwrv</td>\n",
       "      <td>t3_j2vwwt</td>\n",
       "      <td>GrumpyOlBastard</td>\n",
       "      <td>t3_j2vwwt</td>\n",
       "      <td>So I’m wondering what’s going to happen when n...</td>\n",
       "      <td>Plymouth03</td>\n",
       "      <td>['so', 'i', 'wondering', 'going', 'happen', 'n...</td>\n",
       "      <td>Trump</td>\n",
       "      <td>[]</td>\n",
       "      <td>NaN</td>\n",
       "      <td>NaN</td>\n",
       "      <td>0.0000</td>\n",
       "    </tr>\n",
       "    <tr>\n",
       "      <th>2020-10-01 00:00:36</th>\n",
       "      <td>g78g8dl</td>\n",
       "      <td>t3_j2vwwt</td>\n",
       "      <td>maybe-fuck-you</td>\n",
       "      <td>t3_j2vwwt</td>\n",
       "      <td>My report I paid for.</td>\n",
       "      <td>Plymouth03</td>\n",
       "      <td>['my', 'report', 'i', 'paid']</td>\n",
       "      <td>Trump</td>\n",
       "      <td>['g79ee6w']</td>\n",
       "      <td>NaN</td>\n",
       "      <td>NaN</td>\n",
       "      <td>0.0000</td>\n",
       "    </tr>\n",
       "  </tbody>\n",
       "</table>\n",
       "<p>95893 rows × 12 columns</p>\n",
       "</div>"
      ],
      "text/plain": [
       "                          ID    Link ID           Author   Parent ID  \\\n",
       "dates                                                                  \n",
       "2020-11-03 00:23:36  gaycvmz  t3_jmybs3        yyungpiss   t3_jmybs3   \n",
       "2020-11-02 23:26:26  gay6kwb  t3_jmybs3     J_Class_Ford  t1_gay5x5w   \n",
       "2020-11-02 23:20:27  gay5x5w  t3_jmybs3        cyanydeez  t1_gay5pjk   \n",
       "2020-11-02 23:18:33  gay5pjk  t3_jmybs3     J_Class_Ford  t1_gay5doq   \n",
       "2020-11-02 23:15:36  gay5doq  t3_jmybs3        cyanydeez  t1_gay3si8   \n",
       "...                      ...        ...              ...         ...   \n",
       "2020-10-01 01:25:30  g78ozrz  t3_j2vwwt    5DollarHitJob   t3_j2vwwt   \n",
       "2020-10-01 01:24:25  g78ovcd  t3_j2vwwt      AmishTechno   t3_j2vwwt   \n",
       "2020-10-01 00:29:42  g78j6ey  t3_j2vwwt   ryhaltswhiskey  t1_g78iult   \n",
       "2020-10-01 00:07:18  g78gwrv  t3_j2vwwt  GrumpyOlBastard   t3_j2vwwt   \n",
       "2020-10-01 00:00:36  g78g8dl  t3_j2vwwt   maybe-fuck-you   t3_j2vwwt   \n",
       "\n",
       "                                                                  Body  \\\n",
       "dates                                                                    \n",
       "2020-11-03 00:23:36  is there some sort of weird strategy to this o...   \n",
       "2020-11-02 23:26:26                             Division is his weapon   \n",
       "2020-11-02 23:20:27  dunno, everything trump does seems to generate...   \n",
       "2020-11-02 23:18:33  Not sure it generates many more votes. I work ...   \n",
       "2020-11-02 23:15:36  yeah, but for every vote this generates, would...   \n",
       "...                                                                ...   \n",
       "2020-10-01 01:25:30                         Can they just appeal this?   \n",
       "2020-10-01 01:24:25                          And, nothing will happen.   \n",
       "2020-10-01 00:29:42  Ah I did not know that\\r\\n\\r\\nMan I hope Barr ...   \n",
       "2020-10-01 00:07:18  So I’m wondering what’s going to happen when n...   \n",
       "2020-10-01 00:00:36                              My report I paid for.   \n",
       "\n",
       "                    Parent author  \\\n",
       "dates                               \n",
       "2020-11-03 00:23:36        geoxol   \n",
       "2020-11-02 23:26:26     cyanydeez   \n",
       "2020-11-02 23:20:27  J_Class_Ford   \n",
       "2020-11-02 23:18:33     cyanydeez   \n",
       "2020-11-02 23:15:36  J_Class_Ford   \n",
       "...                           ...   \n",
       "2020-10-01 01:25:30    Plymouth03   \n",
       "2020-10-01 01:24:25    Plymouth03   \n",
       "2020-10-01 00:29:42   memepolizia   \n",
       "2020-10-01 00:07:18    Plymouth03   \n",
       "2020-10-01 00:00:36    Plymouth03   \n",
       "\n",
       "                                                                Tokens  \\\n",
       "dates                                                                    \n",
       "2020-11-03 00:23:36  ['sort', 'weird', 'strategy', 'something', 'la...   \n",
       "2020-11-02 23:26:26                             ['division', 'weapon']   \n",
       "2020-11-02 23:20:27  ['dunno', 'everything', 'trump', 'seems', 'gen...   \n",
       "2020-11-02 23:18:33  ['not', 'sure', 'generates', 'many', 'votes', ...   \n",
       "2020-11-02 23:15:36  ['yeah', 'every', 'vote', 'generates', 'would'...   \n",
       "...                                                                ...   \n",
       "2020-10-01 01:25:30                                  ['can', 'appeal']   \n",
       "2020-10-01 01:24:25                       ['and', 'nothing', 'happen']   \n",
       "2020-10-01 00:29:42  ['ah', 'i', 'know', 'man', 'i', 'hope', 'barr'...   \n",
       "2020-10-01 00:07:18  ['so', 'i', 'wondering', 'going', 'happen', 'n...   \n",
       "2020-10-01 00:00:36                      ['my', 'report', 'i', 'paid']   \n",
       "\n",
       "                    Politician of related submission Children comments  \\\n",
       "dates                                                                    \n",
       "2020-11-03 00:23:36                            Trump                []   \n",
       "2020-11-02 23:26:26                            Trump                []   \n",
       "2020-11-02 23:20:27                            Trump       ['gay6kwb']   \n",
       "2020-11-02 23:18:33                            Trump       ['gay5x5w']   \n",
       "2020-11-02 23:15:36                            Trump       ['gay5pjk']   \n",
       "...                                              ...               ...   \n",
       "2020-10-01 01:25:30                            Trump                []   \n",
       "2020-10-01 01:24:25                            Trump                []   \n",
       "2020-10-01 00:29:42                            Trump                []   \n",
       "2020-10-01 00:07:18                            Trump                []   \n",
       "2020-10-01 00:00:36                            Trump       ['g79ee6w']   \n",
       "\n",
       "                    Mentions Trump Mentions Biden  compound_sentiment_score  \n",
       "dates                                                                        \n",
       "2020-11-03 00:23:36            NaN            NaN                    0.1298  \n",
       "2020-11-02 23:26:26            NaN            NaN                   -0.2960  \n",
       "2020-11-02 23:20:27           True            NaN                    0.0000  \n",
       "2020-11-02 23:18:33           True            NaN                   -0.0160  \n",
       "2020-11-02 23:15:36            NaN            NaN                    0.5450  \n",
       "...                            ...            ...                       ...  \n",
       "2020-10-01 01:25:30            NaN            NaN                    0.0000  \n",
       "2020-10-01 01:24:25            NaN            NaN                    0.0000  \n",
       "2020-10-01 00:29:42            NaN            NaN                    0.4404  \n",
       "2020-10-01 00:07:18            NaN            NaN                    0.0000  \n",
       "2020-10-01 00:00:36            NaN            NaN                    0.0000  \n",
       "\n",
       "[95893 rows x 12 columns]"
      ]
     },
     "execution_count": 87,
     "metadata": {},
     "output_type": "execute_result"
    }
   ],
   "source": [
    "df_coms = com_data.rename(columns={'id': 'ID', 'link_id':'Link ID', 'author':'Author', 'parent_id':'Parent ID', 'body': 'Body', 'parent_author':'Parent author', 'tokens':'Tokens', 'politician':'Politician of related submission', 'children_comments':'Children comments', 'mentions_Trump': 'Mentions Trump', 'mentions_Biden':'Mentions Biden'}, index={'dates': 'Timestamp'})\n",
    "df_coms = df_coms.drop('score', axis=1)\n",
    "df_coms"
   ]
  },
  {
   "cell_type": "code",
   "execution_count": 161,
   "id": "3f38a0ca",
   "metadata": {},
   "outputs": [],
   "source": [
    "#This cell is to remove the comments associated with the submissions posted before 10-01-2020, that were erroneously included in the sub_data\n",
    "sub_data_to_remove = sub_data[sub_data.index < \"2020-10-01\"]\n",
    "ids_to_remove = list(sub_data_to_remove[\"id\"].values)\n",
    "comments_to_delete = list(set(ids_to_remove))\n",
    "for i in range(len(comments_to_delete)): \n",
    "    comments_to_delete[i] = 't3_' + comments_to_delete[i]"
   ]
  },
  {
   "cell_type": "code",
   "execution_count": 162,
   "id": "a262d479",
   "metadata": {},
   "outputs": [],
   "source": [
    "for i in range(len(comments_to_delete)):\n",
    "    com_index = com_data[com_data['link_id'] == comments_to_delete[i]].index\n",
    "    com_data = com_data.drop(com_index)"
   ]
  },
  {
   "cell_type": "code",
   "execution_count": 207,
   "id": "a3d11efc",
   "metadata": {},
   "outputs": [],
   "source": [
    "# This cell is to ensure that the \"body\" column of the comments data only contains strings\n",
    "com_data[\"body\"] = com_data[\"body\"].astype(\"str\")"
   ]
  },
  {
   "cell_type": "markdown",
   "id": "7d5c0701",
   "metadata": {},
   "source": [
    "### Statistics of the submissions"
   ]
  },
  {
   "cell_type": "markdown",
   "id": "a8dead87",
   "metadata": {},
   "source": [
    "We'll look into the distribution of the submissions mentioning either Trump or Biden. "
   ]
  },
  {
   "cell_type": "code",
   "execution_count": 76,
   "id": "8368dd81",
   "metadata": {},
   "outputs": [
    {
     "data": {
      "image/png": "[encoded data removed]",
      "text/plain": [
       "<Figure size 840x560 with 1 Axes>"
      ]
     },
     "metadata": {},
     "output_type": "display_data"
    }
   ],
   "source": [
    "biden_trump_subs_dist = pd.DataFrame(sub_data.groupby(\"politician\").count()[\"title\"])\n",
    "biden_trump_subs_dist = biden_trump_subs_dist.rename(columns = {\"title\" : \" \"})\n",
    "#biden_trump_subs_dist\n",
    "fig = plt.figure(dpi=140)\n",
    "subs_dist_plot = biden_trump_subs_dist.plot.pie(y = \" \", title = \"Distribution of submissions\", legend = False, colors = [\"blue\", \"red\"], shadow = False, autopct='%1.1f%%', explode=(0, 0.1), ax=plt.gca())\n",
    "subs_dist_plot.figure.savefig(r\"C:\\Users\\Lasse\\Desktop\\DTU\\6. semester\\Social informatik\\Exam project local\\Website new\\Website-template\\static\\images\\subs_distribution_new.png\")"
   ]
  },
  {
   "cell_type": "code",
   "execution_count": 14,
   "id": "11c01381",
   "metadata": {},
   "outputs": [
    {
     "name": "stdout",
     "output_type": "stream",
     "text": [
      "Total number of submissions: 9018\n",
      "Total number of submissions mentioning Trump: 7205\n",
      "Total number of submissions mentioning Biden: 1813\n",
      "Number of unique authors: 2912\n",
      "Average number of submissions per author: 3.1\n",
      "Average number of comments per submission: 150.5\n"
     ]
    }
   ],
   "source": [
    "print(\"Total number of submissions: \" + str(len(sub_data)))\n",
    "print(\"Total number of submissions mentioning Trump: \" + str(len(sub_data.loc[sub_data[\"politician\"] == \"Trump\"])))\n",
    "print(\"Total number of submissions mentioning Biden: \" + str(len(sub_data.loc[sub_data[\"politician\"] == \"Biden\"])))\n",
    "print(\"Number of unique authors: \" + str(len(sub_data[\"author\"].unique())))\n",
    "print(\"Average number of submissions per author: \" + str(round(sub_data.groupby(\"author\").count()[\"title\"].mean(),2)))\n",
    "print(\"Average number of comments per submission: \" + str(round(sub_data[\"num_comments\"].mean(), 1)))"
   ]
  },
  {
   "cell_type": "code",
   "execution_count": 71,
   "id": "6083734c",
   "metadata": {},
   "outputs": [
    {
     "data": {
      "image/png": "[encoded data removed]",
      "text/plain": [
       "<Figure size 1500x500 with 1 Axes>"
      ]
     },
     "metadata": {
      "needs_background": "light"
     },
     "output_type": "display_data"
    }
   ],
   "source": [
    "#We had some submissions befor the first of october\n",
    "\n",
    "#sns.set_style(\"darkgrid\")\n",
    "sns.reset_orig()\n",
    "sub_data = sub_data[sub_data.index > \"2020-10-01\"]\n",
    "daily_subs = sub_data['id'].resample('D').count()\n",
    "#Specifying the MatPlotLib font and line width\n",
    "def setup_mpl():\n",
    "    #mpl.rcParams['font.family'] = 'Helvetica Neue'\n",
    "    mpl.rcParams['font.size'] = '15'\n",
    "    mpl.rcParams['lines.linewidth'] = 3\n",
    "setup_mpl()\n",
    "MyFmt = mdates.DateFormatter('%d-%m-%Y')\n",
    "#Resample number of comments per day. \n",
    "#Convert to dataframe\n",
    "daily_subs_df = pd.DataFrame(\n",
    "                    {\n",
    "                        'Daily submissions' : daily_subs.values\n",
    "                    }, index = daily_subs.index)\n",
    "\n",
    "MA_subs = daily_subs_df[\"Daily submissions\"].rolling('3D').mean()\n",
    "#Plot the moving average on top!\n",
    "\n",
    "#fig, ax = plt.subplots(figsize=(15,5), dpi=400)\n",
    "fig, ax = plt.subplots(figsize=(15,5), dpi=100)\n",
    "ax.xaxis.set_major_locator(plt.MaxNLocator(5))\n",
    "ax.plot(daily_subs.index, daily_subs.values, alpha=0.5, label=\"Submissions\")\n",
    "#ax.plot(MA_subs.index, MA_subs.values, color='k', label=\"3-day rolling average\")\n",
    "#ax.locator_params(axis='x', nbins=5)\n",
    "ax.axvline(x=daily_subs.index[-1], label='Day before election day', color='orange', alpha=0.5)\n",
    "#ax.plot(rolled_series.index, rolled_series.values, color='k', label=\"1 week rolling average\")\n",
    "ax.set_ylabel('Number of submissions', size = 18)\n",
    "#ax.set_yscale('log')\n",
    "ax.legend()\n",
    "#plt.grid(True)\n",
    "ax.xaxis.set_major_formatter(MyFmt)\n",
    "plt.title(\"Daily submissions on r/politics mentioning 'Trump' or 'Biden'\")\n",
    "\n",
    "plt.savefig(r'C:\\Users\\Lasse\\Desktop\\DTU\\6. semester\\Social informatik\\Exam project local\\Website new\\Website-template\\static\\images\\submissions_per_day_big.svg', bbox_inches='tight', dpi=400)"
   ]
  },
  {
   "cell_type": "code",
   "execution_count": 72,
   "id": "9597e126",
   "metadata": {},
   "outputs": [
    {
     "data": {
      "text/html": [
       "<div>\n",
       "<style scoped>\n",
       "    .dataframe tbody tr th:only-of-type {\n",
       "        vertical-align: middle;\n",
       "    }\n",
       "\n",
       "    .dataframe tbody tr th {\n",
       "        vertical-align: top;\n",
       "    }\n",
       "\n",
       "    .dataframe thead th {\n",
       "        text-align: right;\n",
       "    }\n",
       "</style>\n",
       "<table border=\"1\" class=\"dataframe\">\n",
       "  <thead>\n",
       "    <tr style=\"text-align: right;\">\n",
       "      <th></th>\n",
       "      <th>Title</th>\n",
       "      <th>ID</th>\n",
       "      <th>Author</th>\n",
       "      <th>Number of comments</th>\n",
       "      <th>URL</th>\n",
       "      <th>Politician mentioned</th>\n",
       "    </tr>\n",
       "    <tr>\n",
       "      <th>Timestamp</th>\n",
       "      <th></th>\n",
       "      <th></th>\n",
       "      <th></th>\n",
       "      <th></th>\n",
       "      <th></th>\n",
       "      <th></th>\n",
       "    </tr>\n",
       "  </thead>\n",
       "  <tbody>\n",
       "    <tr>\n",
       "      <th>2020-11-02 22:54:58</th>\n",
       "      <td>Trump ramps up Fauci attacks on eve of electio...</td>\n",
       "      <td>jmybs3</td>\n",
       "      <td>geoxol</td>\n",
       "      <td>33</td>\n",
       "      <td>https://thehill.com/homenews/administration/52...</td>\n",
       "      <td>Trump</td>\n",
       "    </tr>\n",
       "    <tr>\n",
       "      <th>2020-11-02 22:48:58</th>\n",
       "      <td>Trump Loves To Declare Victory Even if He Didn...</td>\n",
       "      <td>jmy7vu</td>\n",
       "      <td>Facerealityalready</td>\n",
       "      <td>16</td>\n",
       "      <td>https://www.motherjones.com/politics/2020/11/t...</td>\n",
       "      <td>Trump</td>\n",
       "    </tr>\n",
       "    <tr>\n",
       "      <th>2020-11-02 22:46:57</th>\n",
       "      <td>Trump creates 1776 Commission to promote 'patr...</td>\n",
       "      <td>jmy6j9</td>\n",
       "      <td>bluestblue</td>\n",
       "      <td>53</td>\n",
       "      <td>https://www.politico.com/news/2020/11/02/trump...</td>\n",
       "      <td>Trump</td>\n",
       "    </tr>\n",
       "  </tbody>\n",
       "</table>\n",
       "</div>"
      ],
      "text/plain": [
       "                                                                 Title  \\\n",
       "Timestamp                                                                \n",
       "2020-11-02 22:54:58  Trump ramps up Fauci attacks on eve of electio...   \n",
       "2020-11-02 22:48:58  Trump Loves To Declare Victory Even if He Didn...   \n",
       "2020-11-02 22:46:57  Trump creates 1776 Commission to promote 'patr...   \n",
       "\n",
       "                         ID              Author  Number of comments  \\\n",
       "Timestamp                                                             \n",
       "2020-11-02 22:54:58  jmybs3              geoxol                  33   \n",
       "2020-11-02 22:48:58  jmy7vu  Facerealityalready                  16   \n",
       "2020-11-02 22:46:57  jmy6j9          bluestblue                  53   \n",
       "\n",
       "                                                                   URL  \\\n",
       "Timestamp                                                                \n",
       "2020-11-02 22:54:58  https://thehill.com/homenews/administration/52...   \n",
       "2020-11-02 22:48:58  https://www.motherjones.com/politics/2020/11/t...   \n",
       "2020-11-02 22:46:57  https://www.politico.com/news/2020/11/02/trump...   \n",
       "\n",
       "                    Politician mentioned  \n",
       "Timestamp                                 \n",
       "2020-11-02 22:54:58                Trump  \n",
       "2020-11-02 22:48:58                Trump  \n",
       "2020-11-02 22:46:57                Trump  "
      ]
     },
     "execution_count": 72,
     "metadata": {},
     "output_type": "execute_result"
    }
   ],
   "source": [
    "df = sub_data[:3].drop(columns=[\"score\"])\n",
    "df.index.names = ['Timestamp']\n",
    "df.rename(columns = {'title':'Title', 'id':'ID', 'author':'Author', 'num_comments':'Number of comments', 'url':'URL', 'politician':'Politician mentioned'}, inplace = True)\n",
    "df\n",
    "#dfi.export(df,\"mytable.svg\")\n",
    "df"
   ]
  },
  {
   "cell_type": "markdown",
   "id": "a6d751c7",
   "metadata": {},
   "source": [
    "### Statistics of the comments"
   ]
  },
  {
   "cell_type": "markdown",
   "id": "d383feba",
   "metadata": {},
   "source": [
    "# 3 Tools, theory and analysis"
   ]
  },
  {
   "cell_type": "code",
   "execution_count": 251,
   "id": "edad6973",
   "metadata": {},
   "outputs": [],
   "source": [
    "# Implementing the VADER sentiment analysis of the comments. \n",
    "\n",
    "#https://www.geeksforgeeks.org/python-sentiment-analysis-using-vader/\n",
    "def calculate_compound_sentiment_score(sentence):\n",
    "\n",
    "    # Create a SentimentIntensityAnalyzer object.\n",
    "    sid_obj = SentimentIntensityAnalyzer()\n",
    " \n",
    "    # polarity_scores method of SentimentIntensityAnalyzer\n",
    "    # object gives a sentiment dictionary.\n",
    "    # which contains pos, neg, neu, and compound scores.\n",
    "    sentiment_dict = sid_obj.polarity_scores(sentence)\n",
    "     \n",
    "    # The Compound score is a metric that calculates the sum of all the lexicon ratings \n",
    "    # which have been normalized between -1(most extreme negative) and +1 (most extreme positive).   \n",
    "    \n",
    "    return sentiment_dict['compound']"
   ]
  },
  {
   "cell_type": "code",
   "execution_count": 526,
   "id": "501a6b0e",
   "metadata": {},
   "outputs": [
    {
     "name": "stderr",
     "output_type": "stream",
     "text": [
      "100%|██████████| 476/476 [00:05<00:00, 93.07it/s] \n"
     ]
    }
   ],
   "source": [
    "tqdm.pandas()\n",
    "com_data[\"compound_sentiment_score\"] = com_data[\"body\"].progress_apply(calculate_compound_sentiment_score)"
   ]
  },
  {
   "cell_type": "code",
   "execution_count": 848,
   "id": "76c537dd",
   "metadata": {},
   "outputs": [
    {
     "data": {
      "text/plain": [
       "0.0"
      ]
     },
     "execution_count": 848,
     "metadata": {},
     "output_type": "execute_result"
    }
   ],
   "source": [
    "test = com_data[\"body\"][-2]\n",
    "test = re.sub(r'\\n', '', test)\n",
    "test = re.sub(r'\\'', '', test)\n",
    "calculate_compound_sentiment_score('not bad good')\n",
    "#test"
   ]
  },
  {
   "cell_type": "markdown",
   "id": "ce26f25e",
   "metadata": {},
   "source": [
    "NOTE: Here, we've managed to delete even more comments leaving some authors with less than five comments. "
   ]
  },
  {
   "cell_type": "code",
   "execution_count": 212,
   "id": "fd6d7119",
   "metadata": {},
   "outputs": [],
   "source": [
    "tqdm.pandas()\n",
    "group = com_data.groupby([\"author\", \"politician\"])\n",
    "#author_df_V = group.progress_apply(lambda x: x[\"compound_sentiment_score\"].unique())\n"
   ]
  },
  {
   "cell_type": "code",
   "execution_count": 213,
   "id": "e5a68174",
   "metadata": {},
   "outputs": [],
   "source": [
    "author_comments = group[\"body\"].unique()\n",
    "text = author_comments.values[0]"
   ]
  },
  {
   "cell_type": "code",
   "execution_count": 215,
   "id": "8a4b866b",
   "metadata": {},
   "outputs": [
    {
     "name": "stderr",
     "output_type": "stream",
     "text": [
      "100%|██████████| 3357/3357 [00:00<00:00, 30304.41it/s]\n"
     ]
    }
   ],
   "source": []
  },
  {
   "cell_type": "code",
   "execution_count": 223,
   "id": "52f063c1",
   "metadata": {},
   "outputs": [],
   "source": [
    "author_bodies = com_data.groupby([\"author\", \"politician\"]).apply(lambda x: x[\"body\"].unique())"
   ]
  },
  {
   "cell_type": "code",
   "execution_count": 225,
   "id": "654f94d8",
   "metadata": {},
   "outputs": [
    {
     "name": "stderr",
     "output_type": "stream",
     "text": [
      "100%|██████████| 3357/3357 [00:00<00:00, 26711.71it/s]\n"
     ]
    }
   ],
   "source": [
    "# Joining the comments for each politician for each of the authors\n",
    "for i in tqdm(range(len(author_bodies.values))):\n",
    "    author_bodies.values[i] = \" \".join(list(author_bodies.values[i]))\n",
    "    "
   ]
  },
  {
   "cell_type": "code",
   "execution_count": 281,
   "id": "c5744e93",
   "metadata": {},
   "outputs": [],
   "source": [
    "# List of unique comments authors\n",
    "authors = list(com_data[\"author\"].unique())"
   ]
  },
  {
   "cell_type": "code",
   "execution_count": 260,
   "id": "4a708a8a",
   "metadata": {},
   "outputs": [
    {
     "name": "stderr",
     "output_type": "stream",
     "text": [
      "100%|██████████| 1741/1741 [10:40<00:00,  2.72it/s]  \n"
     ]
    }
   ],
   "source": [
    "# Dict to contain the authors as keys and a dict as value: {\"Biden\" : compound sentiment score of the concatenated Biden-related comments, \"Trump\" : compound sentiment score of the concatenated Biden-related comments}\n",
    "# Each list of sentiment scores contain 0 per default corresponding to a neutral compound sentiment. \n",
    "author_comment_sentiment_dict = {author : {\"Biden\" : 0, \"Trump\": 0} for author in authors}\n",
    "for author in tqdm(authors):\n",
    "    related_politicians = list(author_bodies[author].index)\n",
    "    for politician in related_politicians:\n",
    "        author_comment_sentiment_dict[author][politician] = calculate_compound_sentiment_score(author_bodies[author][politician])"
   ]
  },
  {
   "cell_type": "markdown",
   "id": "33fcdf35",
   "metadata": {},
   "source": [
    "For each author, we will assign a \"supporter_of\" attribute, corresponding to the candidate for which the concatenated related comments have the highest compound sentiment score. "
   ]
  },
  {
   "cell_type": "code",
   "execution_count": 303,
   "id": "8d95cf06",
   "metadata": {},
   "outputs": [],
   "source": [
    "author_conviction_df = pd.DataFrame({\"author\" : authors})"
   ]
  },
  {
   "cell_type": "code",
   "execution_count": 304,
   "id": "ea0115b0",
   "metadata": {},
   "outputs": [],
   "source": [
    "author_conviction_df[\"supporter_of\"] = [max(author_comment_sentiment_dict[author], key=author_comment_sentiment_dict[author].get) for author in authors]\n",
    "author_conviction_df.to_csv(r\"C:\\Users\\Lasse\\Desktop\\DTU\\6. semester\\Social informatik\\Exam project local\\GitHub\\SocInfo2022\\Data\\Saved dataframes etc\\author_conviction_df.csv\")"
   ]
  },
  {
   "cell_type": "markdown",
   "id": "6121cec0",
   "metadata": {},
   "source": [
    "# 4 Discussion\n",
    "\n",
    "### What is still missing?\n",
    "\n",
    "### What could be improved?\n",
    "\n",
    "It would undoubtedly have been interesting to investigate the political content on r/politics over a longer time period, e.g. six months preceeding the election day, which would allow for the detection of longer term trends in redditor activity and sentiment. For such a scope to be feasible, bigger computational muscles than what the group members had at their disposal. "
   ]
  }
 ],
 "metadata": {
  "kernelspec": {
   "display_name": "Python 3 (ipykernel)",
   "language": "python",
   "name": "python3"
  },
  "language_info": {
   "codemirror_mode": {
    "name": "ipython",
    "version": 3
   },
   "file_extension": ".py",
   "mimetype": "text/x-python",
   "name": "python",
   "nbconvert_exporter": "python",
   "pygments_lexer": "ipython3",
   "version": "3.8.12"
  }
 },
 "nbformat": 4,
 "nbformat_minor": 5
}
